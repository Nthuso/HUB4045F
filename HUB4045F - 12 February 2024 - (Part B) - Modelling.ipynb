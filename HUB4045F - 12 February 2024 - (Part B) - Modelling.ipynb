{
 "cells": [
  {
   "cell_type": "markdown",
   "metadata": {
    "slideshow": {
     "slide_type": "slide"
    }
   },
   "source": [
    "# Modelling X-ray Imaging\n"
   ]
  },
  {
   "cell_type": "code",
   "execution_count": 1,
   "metadata": {
    "scrolled": true,
    "slideshow": {
     "slide_type": "slide"
    }
   },
   "outputs": [
    {
     "data": {
      "text/html": [
       "<video width=\"640\" height=\"480\" controls>\n",
       "  <source src=\"./vid/How-Do-X-rays-Work.mp4\" type=\"video/mp4\">\n",
       "  Your browser does not support the video tag.\n",
       "</video>\n",
       "<br>\n",
       "<p>Source: <a href=\"https://www.nibib.nih.gov/news-events/multimedia/video-gallery\">NIH Video Gallery</a></p>\n"
      ],
      "text/plain": [
       "<IPython.core.display.HTML object>"
      ]
     },
     "metadata": {},
     "output_type": "display_data"
    }
   ],
   "source": [
    "%%html\n",
    "<video width=\"640\" height=\"480\" controls>\n",
    "  <source src=\"./vid/How-Do-X-rays-Work.mp4\" type=\"video/mp4\">\n",
    "  Your browser does not support the video tag.\n",
    "</video>\n",
    "<br>\n",
    "<p>Source: <a href=\"https://www.nibib.nih.gov/news-events/multimedia/video-gallery\">NIH Video Gallery</a></p>\n"
   ]
  },
  {
   "cell_type": "markdown",
   "metadata": {
    "slideshow": {
     "slide_type": "notes"
    },
    "tags": [
     "1"
    ]
   },
   "source": [
    "## Introduction to X-ray Imaging\n",
    "\n",
    "- **Video Insight**: We begin with a video exploring X-ray imaging. This provides an intuitive understanding of X-ray technology.\n",
    "- **Significance**: X-rays represent a crucial form of high-energy electromagnetic radiation. They serve as our primary tool for building a foundational knowledge of radiological imaging.\n"
   ]
  },
  {
   "cell_type": "markdown",
   "metadata": {
    "slideshow": {
     "slide_type": "slide"
    },
    "tags": [
     "3"
    ]
   },
   "source": [
    "## The Significance of X-ray in Medical Imaging\n",
    "\n",
    "- **Historical Milestone**: The first modality used in medical diagnosis, paving the way for modern imaging.\n",
    "- **Educational Value**: Serves as a fundamental framework for understanding imaging techniques.\n",
    "- **Broad Applicability**: Principles extend to CT, MRI, and PET.\n",
    "\n",
    "\n",
    "_Adopted from: Charles L. Epstein, \"Introduction to the Mathematics of Medical Imaging, Second Edition\", Society for Industrial and Applied Mathematics, 2008._"
   ]
  },
  {
   "cell_type": "markdown",
   "metadata": {
    "slideshow": {
     "slide_type": "notes"
    }
   },
   "source": [
    "- **Historical Context**: Emphasize X-ray's role as the pioneering technique in medical imaging, marking a significant leap in diagnostic capabilities since its inception. This breakthrough laid the groundwork for the development of modern imaging technologies.\n",
    "- **Educational Framework**: Highlight the crucial role of X-ray imaging in educational settings, where it serves as a fundamental tool for teaching the principles of various imaging techniques due to its simplicity and direct applications.\n",
    "- **Versatility and Impact**: Discuss the broad applicability of X-ray principles across different imaging modalities, including CT, MRI, and PET, illustrating the foundational impact of X-ray technology on the field of radiology and medical diagnostics at large.\n"
   ]
  },
  {
   "cell_type": "markdown",
   "metadata": {
    "slideshow": {
     "slide_type": "slide"
    },
    "tags": [
     "4"
    ]
   },
   "source": [
    "## From Qualitative to Quantitative Modelling\n",
    "\n",
    "- **Early Approaches**: Initial reliance on qualitative models to describe imaging phenomena.\n",
    "- **Quantitative Revolution**: Adoption of numerical methods for detailed analysis and measurement in imaging.\n"
   ]
  },
  {
   "cell_type": "markdown",
   "metadata": {
    "slideshow": {
     "slide_type": "notes"
    }
   },
   "source": [
    "- **Transition in Methodology**: Note the evolution from qualitative models, which provided initial insights based on non-numerical data, to the embrace of quantitative models. This shift represents a significant advancement in medical imaging, allowing for a more precise and measurable understanding of imaging phenomena.\n",
    "- **Impact of Quantitative Revolution**: Emphasize the importance of adopting numerical methods for a detailed analysis and measurement in imaging. This change has led to enhanced diagnostic accuracy, improved patient outcomes, and the development of new imaging technologies.\n"
   ]
  },
  {
   "cell_type": "markdown",
   "metadata": {
    "slideshow": {
     "slide_type": "slide"
    },
    "tags": [
     "2"
    ]
   },
   "source": [
    "\n",
    "# Modeling in Medical Imaging\n",
    "\n",
    "### Key Point\n",
    "- Utilizes advanced mathematical and computational methods.\n",
    "- Creates abstract representations of physical systems in medical imaging.\n",
    "\n",
    "### Importance\n",
    "- Aims for accurate predictions of system behaviors under various conditions."
   ]
  },
  {
   "cell_type": "markdown",
   "metadata": {
    "slideshow": {
     "slide_type": "notes"
    }
   },
   "source": [
    "- **Key Point**: Modeling in medical imaging involves using advanced mathematical and computational methods to create abstract representations of physical systems. This approach is foundational for simulating and understanding the complex behaviors of these systems under different scenarios.\n",
    "- **Importance**: The main objective of modeling is to accurately predict system behaviors in various conditions. This capability is crucial for advancing medical imaging technologies and methodologies, offering deeper insights into diagnostics and treatment planning."
   ]
  },
  {
   "cell_type": "markdown",
   "metadata": {
    "slideshow": {
     "slide_type": "subslide"
    },
    "tags": [
     "5"
    ]
   },
   "source": [
    "A __qualitative model__ of X-ray imaging involves using non-numerical data to describe and interpret aspects of X-ray images. _e.g. one could use qualitative models to describe the visual appearance of a tumor or the pattern of blood flow in a patient's heart._ \n",
    "\n",
    "...often precedes a quantitative model. _e.g. Original formulation of X-ray_ "
   ]
  },
  {
   "cell_type": "markdown",
   "metadata": {
    "slideshow": {
     "slide_type": "subslide"
    },
    "tags": [
     "6"
    ]
   },
   "source": [
    "A __quantitative model__ involves using numerical data to measure and quantify various aspects of X-ray images, such as the density or shape of certain structures. e.g. _one could use quantitative models to measure the size of a tumor or the amount of calcium in a patient's arteries._\n",
    "\n",
    "... expressed in the language of mathematics"
   ]
  },
  {
   "cell_type": "markdown",
   "metadata": {
    "cell_style": "center",
    "slideshow": {
     "slide_type": "slide"
    },
    "tags": [
     "7"
    ]
   },
   "source": [
    "## Qualitative model of X-ray"
   ]
  },
  {
   "cell_type": "markdown",
   "metadata": {
    "cell_style": "center",
    "slideshow": {
     "slide_type": "subslide"
    },
    "tags": [
     "8"
    ]
   },
   "source": [
    "__X-rays__ were thought of as high frequency ‘light’ with three very useful properties:"
   ]
  },
  {
   "cell_type": "markdown",
   "metadata": {
    "slideshow": {
     "slide_type": "subslide"
    },
    "tags": [
     "9"
    ]
   },
   "source": [
    "In the original formulation of X-ray imaging, X-rays were simply thought of as high frequency ‘light’ with three very useful properties:"
   ]
  },
  {
   "cell_type": "markdown",
   "metadata": {
    "cell_style": "center",
    "slideshow": {
     "slide_type": "slide"
    },
    "tags": [
     "10"
    ]
   },
   "source": [
    "__Property 1: If X-rays are incident on a human body:__\n",
    "\n",
    "- _fraction absorbed/scattered, some transmitted._ \n",
    "- _absorbed/scattered  $\\propto$ to the total density._\n",
    "- _Overall decrease in intensity called attenuation._ "
   ]
  },
  {
   "cell_type": "markdown",
   "metadata": {
    "slideshow": {
     "slide_type": "notes"
    },
    "tags": [
     "11"
    ]
   },
   "source": [
    "- **Key Concept**: When X-rays pass through the human body, a portion is absorbed or scattered while the rest is transmitted. This interaction varies with the density of the tissues encountered, illustrating the principle of attenuation.\n",
    "- **Understanding Attenuation**: Attenuation is a critical concept, as it affects the intensity of X-rays exiting the body. It's directly proportional to the total density of the materials the X-rays pass through, providing the basis for differentiating between various tissues in imaging.\n",
    "\n"
   ]
  },
  {
   "cell_type": "markdown",
   "metadata": {
    "cell_style": "center",
    "slideshow": {
     "slide_type": "slide"
    },
    "tags": [
     "12"
    ]
   },
   "source": [
    "__Property 2: Beam of X-ray light travels in a straight line.__ "
   ]
  },
  {
   "cell_type": "markdown",
   "metadata": {
    "slideshow": {
     "slide_type": "notes"
    },
    "tags": [
     "13"
    ]
   },
   "source": [
    "The second property is that a beam of X-ray light always travels in a straight line. "
   ]
  },
  {
   "cell_type": "markdown",
   "metadata": {
    "cell_style": "center",
    "slideshow": {
     "slide_type": "slide"
    },
    "tags": [
     "14"
    ]
   },
   "source": [
    "__Property 3: X-rays darken photographic ﬁlm....opacity of the ﬁlm is a monotone function of the incident energy.__"
   ]
  },
  {
   "cell_type": "markdown",
   "metadata": {
    "slideshow": {
     "slide_type": "notes"
    },
    "tags": [
     "15"
    ]
   },
   "source": [
    "- **Principle of Film Darkening**: Highlight how X-rays' interaction with photographic film is fundamental to traditional radiography. The darkening of the film is directly related to the energy of the incident X-rays, which varies based on the density of the tissues they pass through.\n",
    "- **Monotone Function and Imaging**: Explain that the film's opacity increases in a predictable manner with the energy of the X-rays, making it possible to visualize different structures within the body based on their densities.\n"
   ]
  },
  {
   "cell_type": "markdown",
   "metadata": {
    "cell_style": "center",
    "collapsed": true,
    "slideshow": {
     "slide_type": "slide"
    },
    "tags": [
     "16"
    ]
   },
   "source": [
    "__This simplified qualitative model:__"
   ]
  },
  {
   "cell_type": "markdown",
   "metadata": {
    "cell_style": "split",
    "slideshow": {
     "slide_type": "fragment"
    },
    "tags": [
     "17"
    ]
   },
   "source": [
    "- Revolutionalized medicine; non-destructive examination of internal anatomy\n",
    "- Still useful today locating bone fractures, dental caries, and foreign objects\n",
    "- Limited ability to visualize soft tissues and more detailed anatomic structure\n",
    "\n"
   ]
  },
  {
   "cell_type": "markdown",
   "metadata": {
    "cell_style": "split",
    "slideshow": {
     "slide_type": "fragment"
    },
    "tags": [
     "18"
    ]
   },
   "source": [
    "<center> <img src=\"img/Simplified_model.png\",width=500,height=500></center> "
   ]
  },
  {
   "cell_type": "markdown",
   "metadata": {
    "cell_style": "center",
    "slideshow": {
     "slide_type": "notes"
    },
    "tags": [
     "19"
    ]
   },
   "source": [
    "- **Revolution in Medicine**: Introduced non-destructive internal examination, drastically changing medical diagnostics.\n",
    "- **Current Applications**: Vital for detecting bone fractures, dental caries, and locating foreign objects within the body.\n",
    "- **Limitations**: While transformative, this model falls short in accurately visualizing soft tissues and detailed anatomical structures, highlighting areas for technological advancement in imaging.\n"
   ]
  },
  {
   "cell_type": "markdown",
   "metadata": {
    "slideshow": {
     "slide_type": "subslide"
    },
    "tags": [
     "20"
    ]
   },
   "source": [
    "<center> <img src=\"img/Normal X-ray.jpg\",width=500,height=500></center> "
   ]
  },
  {
   "cell_type": "markdown",
   "metadata": {
    "slideshow": {
     "slide_type": "notes"
    },
    "tags": [
     "21"
    ]
   },
   "source": [
    "- **Diagnostic Utility**: Film chest X-rays, grounded in basic X-ray principles, are crucial for diagnosing diseases like tuberculosis, pneumonia, and detecting rib fractures.\n",
    "- **Visual Limitations**: Despite their usefulness, these images offer limited detail, primarily revealing information through shadows of the lungs and bones. The overlapping of all body parts on a single plane highlights the method's inherent constraints in providing detailed anatomical insights.\n"
   ]
  },
  {
   "cell_type": "markdown",
   "metadata": {
    "cell_style": "center",
    "slideshow": {
     "slide_type": "slide"
    },
    "tags": [
     "22"
    ]
   },
   "source": [
    "__Why is X-ray not useful for soft tissue and detailed anatomy?__\n",
    "\n",
    "<center> <img src=\"img/Simplified_model_cropped.png\",width=500,height=500></center>"
   ]
  },
  {
   "cell_type": "markdown",
   "metadata": {
    "slideshow": {
     "slide_type": "notes"
    },
    "tags": [
     "23"
    ]
   },
   "source": [
    "- **Losing the 3D Perspective**: X-rays flatten 3D objects into 2D images, making it hard to see where things are inside the body.\n",
    "- **Film Sensitivity and Image Clarity**: Traditional X-ray film doesn't capture all details, even with enhancements like light-emitting phosphors.\n",
    "- **Contrast Issues**: Big differences in X-ray beam intensity don't always show up well on film, making it difficult to see fine details.\n",
    "- **Efforts to Improve**: Despite advances to make X-rays clearer, problems with seeing depth, detail, and contrast remain.\n"
   ]
  },
  {
   "cell_type": "markdown",
   "metadata": {
    "cell_style": "center",
    "slideshow": {
     "slide_type": "subslide"
    },
    "tags": [
     "24"
    ]
   },
   "source": [
    "<center><img src=\"img/Scatter_X-ray.png\",width=600,height=600></center> \n",
    "\n",
    "\n",
    "\n",
    "Scatter radiation and noise."
   ]
  },
  {
   "cell_type": "markdown",
   "metadata": {
    "slideshow": {
     "slide_type": "notes"
    },
    "tags": [
     "25"
    ]
   },
   "source": [
    "- **Scattered Radiation**: Explains how scattered radiation reduces contrast in X-ray images. Even if an object within the body isn't directly penetrated by X-rays, scattered radiation from surrounding tissues can still affect the image, leading to less distinction (contrast) between the object and its background.\n",
    "- **Simplified Example**: Considers an object embedded in a larger mass (like the human body) that contributes to scattered radiation. This scattering results in a background exposure on the film, reducing the clarity and contrast of the object's image."
   ]
  },
  {
   "cell_type": "code",
   "execution_count": 2,
   "metadata": {
    "slideshow": {
     "slide_type": "slide"
    }
   },
   "outputs": [
    {
     "data": {
      "text/html": [
       "<div style=\"overflow-x: scroll;\"><img src=\"img/fractures\\fracture-1.jpg\"></div>"
      ],
      "text/plain": [
       "<IPython.core.display.HTML object>"
      ]
     },
     "metadata": {},
     "output_type": "display_data"
    }
   ],
   "source": [
    "from PIL import Image\n",
    "from IPython.display import display, HTML\n",
    "import os\n",
    "\n",
    "# get a list of all the JPEG images in the directory\n",
    "img_dir = 'img/fractures'\n",
    "img_files = [os.path.join(img_dir, f) for f in os.listdir(img_dir) if f.endswith('.jpg')]\n",
    "\n",
    "# load the first image\n",
    "img1 = Image.open(img_files[0])\n",
    "\n",
    "# calculate the new dimensions to maintain the aspect ratio of the image\n",
    "width1, height1 = img1.size\n",
    "aspect_ratio1 = width1 / height1\n",
    "new_width = int(height1 / 2 * aspect_ratio1)\n",
    "new_height = int(height1 / 2)\n",
    "\n",
    "# resize the image while maintaining its aspect ratio\n",
    "img1 = img1.resize((new_width, new_height), Image.ANTIALIAS)\n",
    "\n",
    "# create the HTML for displaying the image in a scrollable div\n",
    "html = '<div style=\"overflow-x: scroll;\">'\n",
    "html += '<img src=\"{}\">'.format(img_files[0])\n",
    "html += '</div>'\n",
    "\n",
    "# display the HTML in the cell\n",
    "display(HTML(html))\n"
   ]
  },
  {
   "cell_type": "markdown",
   "metadata": {
    "slideshow": {
     "slide_type": "notes"
    },
    "tags": [
     "26"
    ]
   },
   "source": [
    "It should be noted that modern X-ray machines which are largely digital can increase the amount of detail. The image shown here is full body X-ray taken using a locally developed X-ray scanner called the LODOX Xmplar. While iyt is a digital X-ray the principal of a simplified model would still apply. As you can see these X-ray image can be very detailed. Note the fracture of the left thigh bone or femur bone. "
   ]
  },
  {
   "cell_type": "markdown",
   "metadata": {
    "slideshow": {
     "slide_type": "subslide"
    },
    "tags": [
     "27"
    ]
   },
   "source": [
    "- **Initial Limitations**: Difficulty in differentiating soft tissues in early X-ray images.\n",
    "- **Shift to quantitative modelling**: Quantitative modeling techniques enabled the development of CT scans, enhancing tissue differentiation.\n"
   ]
  }
 ],
 "metadata": {
  "celltoolbar": "Slideshow",
  "hide_input": true,
  "kernelspec": {
   "display_name": "Python 3 (ipykernel)",
   "language": "python",
   "name": "python3"
  },
  "language_info": {
   "codemirror_mode": {
    "name": "ipython",
    "version": 3
   },
   "file_extension": ".py",
   "mimetype": "text/x-python",
   "name": "python",
   "nbconvert_exporter": "python",
   "pygments_lexer": "ipython3",
   "version": "3.9.12"
  },
  "rise": {
   "scroll": true,
   "start_slideshow_at": "selected",
   "theme": "simple",
   "transition": "slide"
  },
  "varInspector": {
   "cols": {
    "lenName": 16,
    "lenType": 16,
    "lenVar": 40
   },
   "kernels_config": {
    "python": {
     "delete_cmd_postfix": "",
     "delete_cmd_prefix": "del ",
     "library": "var_list.py",
     "varRefreshCmd": "print(var_dic_list())"
    },
    "r": {
     "delete_cmd_postfix": ") ",
     "delete_cmd_prefix": "rm(",
     "library": "var_list.r",
     "varRefreshCmd": "cat(var_dic_list()) "
    }
   },
   "types_to_exclude": [
    "module",
    "function",
    "builtin_function_or_method",
    "instance",
    "_Feature"
   ],
   "window_display": false
  }
 },
 "nbformat": 4,
 "nbformat_minor": 2
}
