{
 "cells": [
  {
   "cell_type": "markdown",
   "metadata": {
    "cell_style": "center",
    "slideshow": {
     "slide_type": "slide"
    }
   },
   "source": [
    "<div style=\"text-align: right\">\n",
    "\n",
    "# HUB4045F 2024\n",
    "\n",
    "### Mathematics of Imaging\n",
    "\n",
    "#### A/Prof. Tinashe Mutsvangwa\n",
    "\n",
    "#### Faculty of Health Science\n",
    "\n",
    "#### tinashe.mutsvangwa@uct.ac.za\n",
    "\n",
    "<br>\n",
    "\n",
    "## Monday 12 February 2024\n",
    "\n",
    "</div>\n"
   ]
  },
  {
   "cell_type": "markdown",
   "metadata": {
    "cell_style": "center",
    "slideshow": {
     "slide_type": "slide"
    }
   },
   "source": [
    "# Jupyter Notebook: An Overview\n",
    "\n",
    "## Why Jupyter Notebook?\n",
    "\n",
    "- **Free and Open-Source**: Accessible tool for everyone.\n",
    "- **Interactive Web Tool**: Combines software code, computational output, explanatory text, and multimedia resources in one document.\n",
    "- **Multi-Language Support**: Supports Julia (Ju), Python (Py), and R (also incorporates Markdown for documentation).\n",
    "\n",
    "\n"
   ]
  },
  {
   "cell_type": "markdown",
   "metadata": {
    "cell_style": "center",
    "slideshow": {
     "slide_type": "slide"
    }
   },
   "source": [
    "## Python\n",
    "- **For Python Assignments**: Implement and run Python code in an educational setting.\n",
    "\n",
    "**Python Resources**:\n",
    "- [Python.org Beginner's Guide](https://www.python.org/about/gettingstarted/)\n",
    "- [Real Python Tutorials](https://realpython.com)\n"
   ]
  },
  {
   "cell_type": "markdown",
   "metadata": {
    "cell_style": "center",
    "slideshow": {
     "slide_type": "slide"
    }
   },
   "source": [
    "## Setting Up Jupyter Notebook\n",
    "\n",
    "- **Preferred Method**: Use Anaconda for an easy installation process.\n",
    "- **Installation Guide**: Follow the steps in \"Installing Jupyter using Anaconda.docx\" available under the \"Mathematics of Imaging\" lesson in **Amathuba**.\n",
    "- **Resource Access**: Find the Jupyter \"Cheat\" sheet in the same location for quick reference.\n",
    "\n"
   ]
  },
  {
   "cell_type": "markdown",
   "metadata": {
    "slideshow": {
     "slide_type": "slide"
    }
   },
   "source": [
    "## Recommended Textbooks\n",
    "\n",
    "While none are compulsory, the following texts offer valuable insights into the mathematics of medical imaging:\n",
    "\n",
    "- **The Mathematics of Medical Imaging** by T. G. Feeman (2010, Springer). A comprehensive guide to the mathematical foundations of medical imaging technologies.\n",
    "\n",
    "- **Introduction to the Mathematics of Medical Imaging** by C. L. Epstein (2008, SIAM, Vol. 102). An accessible introduction to the mathematical principles underlying medical imaging techniques.\n",
    "\n",
    "- **An Introduction to Mathematical Modelling** by G. Marion (2008, Bioinformatics and Statistics Scotland). Focuses on the application of mathematical modeling in bioinformatics and medical imaging.\n"
   ]
  }
 ],
 "metadata": {
  "celltoolbar": "Slideshow",
  "hide_input": true,
  "kernelspec": {
   "display_name": "Python 3 (ipykernel)",
   "language": "python",
   "name": "python3"
  },
  "language_info": {
   "codemirror_mode": {
    "name": "ipython",
    "version": 3
   },
   "file_extension": ".py",
   "mimetype": "text/x-python",
   "name": "python",
   "nbconvert_exporter": "python",
   "pygments_lexer": "ipython3",
   "version": "3.9.12"
  },
  "rise": {
   "scroll": true,
   "start_slideshow_at": "selected",
   "theme": "simple",
   "transition": "slide"
  },
  "varInspector": {
   "cols": {
    "lenName": 16,
    "lenType": 16,
    "lenVar": 40
   },
   "kernels_config": {
    "python": {
     "delete_cmd_postfix": "",
     "delete_cmd_prefix": "del ",
     "library": "var_list.py",
     "varRefreshCmd": "print(var_dic_list())"
    },
    "r": {
     "delete_cmd_postfix": ") ",
     "delete_cmd_prefix": "rm(",
     "library": "var_list.r",
     "varRefreshCmd": "cat(var_dic_list()) "
    }
   },
   "types_to_exclude": [
    "module",
    "function",
    "builtin_function_or_method",
    "instance",
    "_Feature"
   ],
   "window_display": false
  }
 },
 "nbformat": 4,
 "nbformat_minor": 2
}
