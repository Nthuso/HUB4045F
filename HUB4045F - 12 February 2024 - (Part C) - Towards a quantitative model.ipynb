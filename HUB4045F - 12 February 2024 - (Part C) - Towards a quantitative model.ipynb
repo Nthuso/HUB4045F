{
 "cells": [
  {
   "cell_type": "markdown",
   "metadata": {
    "slideshow": {
     "slide_type": "slide"
    }
   },
   "source": [
    "## towards quantitative model of X-ray imaging "
   ]
  },
  {
   "cell_type": "markdown",
   "metadata": {
    "cell_style": "split",
    "slideshow": {
     "slide_type": "fragment"
    }
   },
   "source": [
    "<center><img src=\"img/AlanCormack.jpg\",width=250,height=250></center>\n",
    "\n",
    "<center>Alan Cormack</center>"
   ]
  },
  {
   "cell_type": "markdown",
   "metadata": {
    "cell_style": "center",
    "slideshow": {
     "slide_type": "notes"
    }
   },
   "source": [
    "The work of shifting from a simple model of X-ray imaging towards a more quantitative model can be attributed to\n",
    "\n",
    "__Click__\n",
    "\n",
    "Alan Cormack, \n",
    "\n",
    "__Click__\n",
    "\n",
    "and Godfrey Hounsﬁeld, who independently developed X-ray tomography or slice imaging. \n",
    "\n",
    "Both won the 1979 Nobel Prize in Physiology or Medicine based on their contributions to X-ray tomography. For your information and perhaps to inspire some of you its worth noting that Alan Cormack was a UCT alumnus. "
   ]
  },
  {
   "cell_type": "markdown",
   "metadata": {
    "cell_style": "split",
    "slideshow": {
     "slide_type": "fragment"
    }
   },
   "source": [
    "<center><img src=\"img/GodfreyHounsfield.jpg\",width=300,height=300></center>\n",
    "\n",
    "<center>Godfrey Hounsfield</center>"
   ]
  },
  {
   "cell_type": "markdown",
   "metadata": {
    "cell_style": "center",
    "slideshow": {
     "slide_type": "slide"
    }
   },
   "source": [
    "## X-ray Properties\n",
    "\n",
    "- **Property 1: Attenuation**: Fraction of X-rays absorbed or scattered, reducing beam intensity due to material density.\n",
    "\n",
    "- **Property 2: Linear Propagation**: X-rays move in straight lines for predictable imaging."
   ]
  },
  {
   "cell_type": "markdown",
   "metadata": {
    "slideshow": {
     "slide_type": "notes"
    }
   },
   "source": [
    "- **Historical Context**: The first step in their work was to use a quantitative theory for the attenuation of X-rays. (using Property 1 and 2)"
   ]
  },
  {
   "cell_type": "markdown",
   "metadata": {
    "cell_style": "center",
    "slideshow": {
     "slide_type": "slide"
    }
   },
   "source": [
    "## Mathematical Foundations in Imaging\n",
    "\n",
    "Both Cormack and Hounsfield realized that mathematics could be used to **INFER** <span style=\"color:green\">3D</span> anatomic structure from a large collection of different <span style=\"color:blue\">2D</span> projections.\n"
   ]
  },
  {
   "cell_type": "markdown",
   "metadata": {
    "cell_style": "center",
    "slideshow": {
     "slide_type": "subslide"
    }
   },
   "source": [
    "## Other Factors Contributing to Imaging Evolution\n",
    "\n",
    "- The availability of scintillation crystals for use as detectors.\n",
    "\n",
    "- The advent of powerful, digital computers capable of processing the tens of thousands of measurements required to form a usable image.\n"
   ]
  },
  {
   "cell_type": "code",
   "execution_count": 1,
   "metadata": {
    "scrolled": true,
    "slideshow": {
     "slide_type": "slide"
    }
   },
   "outputs": [
    {
     "data": {
      "text/html": [
       "<video width=\"320\" height=\"240\" controls>\n",
       "  <source src=\"./vid/How X-rays pass through skin - Ge Wang.mp4\" type=\"video/mp4\">\n",
       "</video>\n",
       "<br>\n",
       "<p>Source: <a href=\"https://ed.ted.com/lessons/how-x-rays-see-through-your-skin-ge-wang\">TED-Ed Lesson</a></p>\n"
      ],
      "text/plain": [
       "<IPython.core.display.HTML object>"
      ]
     },
     "metadata": {},
     "output_type": "display_data"
    }
   ],
   "source": [
    "%%HTML\n",
    "<video width=\"320\" height=\"240\" controls>\n",
    "  <source src=\"./vid/How X-rays pass through skin - Ge Wang.mp4\" type=\"video/mp4\">\n",
    "</video>\n",
    "<br>\n",
    "<p>Source: <a href=\"https://ed.ted.com/lessons/how-x-rays-see-through-your-skin-ge-wang\">TED-Ed Lesson</a></p>\n"
   ]
  },
  {
   "cell_type": "markdown",
   "metadata": {
    "slideshow": {
     "slide_type": "slide"
    }
   },
   "source": [
    "## X-ray Beam Interaction with Materials\n",
    "\n",
    "- X-ray beam traverses various materials like blood, bone, and tissue, each with different densities.\n",
    "- Density variation along the beam path affects the measurement.\n",
    "- Measuring initial and final intensities of a single beam indicates the overall loss in intensity, highlighting the complexity of interpreting X-ray data.\n"
   ]
  },
  {
   "cell_type": "markdown",
   "metadata": {
    "slideshow": {
     "slide_type": "notes"
    }
   },
   "source": [
    "- **Key Point**: In a CT scan, a single X-ray beam encounters various materials like blood, bone, and tissue, each with different densities. This variability affects the beam's intensity over its length, with measurements of initial and final intensities revealing only the total loss in intensity.\n",
    "\n",
    "- **Importance**: Considering the changes in X-ray beam intensity from multiple directions could offer a more detailed understanding of the initial medium's densities. This approach is pivotal for enhancing the accuracy of CT imaging."
   ]
  },
  {
   "cell_type": "markdown",
   "metadata": {
    "cell_style": "center",
    "slideshow": {
     "slide_type": "slide"
    }
   },
   "source": [
    "## Enhancing CT Imaging Through X-ray Beam Analysis\n",
    "\n",
    "\"What if we:\n",
    "_measure the changes in intensity of X-ray beams in many different directions to determine the different densities of our initial medium?_\n",
    "\n",
    "i.e., generate from lots of parallel X-ray beams at each angle through 180°.\"\n"
   ]
  },
  {
   "cell_type": "markdown",
   "metadata": {
    "slideshow": {
     "slide_type": "notes"
    }
   },
   "source": [
    "- **Intuition**: Generating parallel X-ray beams at each angle through 180° allows for a comprehensive analysis of the medium. \n"
   ]
  },
  {
   "cell_type": "markdown",
   "metadata": {
    "cell_style": "center",
    "slideshow": {
     "slide_type": "slide"
    }
   },
   "source": [
    "<center><img src=\"./img/TOMO_gif_CT_Kesner.gif\",width=600,height=600></center> "
   ]
  },
  {
   "cell_type": "markdown",
   "metadata": {
    "cell_style": "center",
    "slideshow": {
     "slide_type": "notes"
    }
   },
   "source": [
    "- **Forward Projection**: Illustrates how X-ray beams pass through different materials within the body, depicted by the vertical lines across the (True) Emission Volume.\n",
    "\n",
    "- **Intensity Profile**: Shows the variance in X-ray intensity, with peaks and valleys corresponding to the varying densities of tissues or structures encountered by the beam.\n",
    "\n",
    "- **Sinogram Formation**: Data from these projections at numerous angles are used to create a sinogram on the right"
   ]
  },
  {
   "cell_type": "markdown",
   "metadata": {
    "cell_style": "center",
    "slideshow": {
     "slide_type": "slide"
    }
   },
   "source": [
    "<center><img src=\"./img/Sinogram1.jpg\",width=600,height=600></center> "
   ]
  },
  {
   "cell_type": "markdown",
   "metadata": {
    "cell_style": "center",
    "slideshow": {
     "slide_type": "notes"
    }
   },
   "source": [
    "- **Sinogram**: The sinogram shown in the image is a critical component in CT scan data processing. It represents the measured changes in X-ray beam intensity for each angle and distance from the origin, crucial for reconstructing a 3D image. Understanding this sinogram is the groundwork for our next lesson, where we'll delve into the mathematical models that compute the attenuation coefficients within the scanned object. Today's session sets the stage for building a comprehensive mathematical model of X-ray and CT imaging from first principles, which we will explore in our upcoming lesson.\n"
   ]
  }
 ],
 "metadata": {
  "celltoolbar": "Slideshow",
  "hide_input": true,
  "kernelspec": {
   "display_name": "Python 3 (ipykernel)",
   "language": "python",
   "name": "python3"
  },
  "language_info": {
   "codemirror_mode": {
    "name": "ipython",
    "version": 3
   },
   "file_extension": ".py",
   "mimetype": "text/x-python",
   "name": "python",
   "nbconvert_exporter": "python",
   "pygments_lexer": "ipython3",
   "version": "3.9.12"
  },
  "rise": {
   "scroll": true,
   "start_slideshow_at": "selected",
   "theme": "simple",
   "transition": "slide"
  },
  "varInspector": {
   "cols": {
    "lenName": 16,
    "lenType": 16,
    "lenVar": 40
   },
   "kernels_config": {
    "python": {
     "delete_cmd_postfix": "",
     "delete_cmd_prefix": "del ",
     "library": "var_list.py",
     "varRefreshCmd": "print(var_dic_list())"
    },
    "r": {
     "delete_cmd_postfix": ") ",
     "delete_cmd_prefix": "rm(",
     "library": "var_list.r",
     "varRefreshCmd": "cat(var_dic_list()) "
    }
   },
   "types_to_exclude": [
    "module",
    "function",
    "builtin_function_or_method",
    "instance",
    "_Feature"
   ],
   "window_display": false
  }
 },
 "nbformat": 4,
 "nbformat_minor": 2
}
