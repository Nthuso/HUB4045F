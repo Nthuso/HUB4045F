{
 "cells": [
  {
   "cell_type": "markdown",
   "metadata": {
    "slideshow": {
     "slide_type": "slide"
    }
   },
   "source": [
    "<h1> HUB4045F Assignment 1: 20% of final mark </h1>\n",
    "Total marks for this assignment 50"
   ]
  },
  {
   "cell_type": "markdown",
   "metadata": {
    "slideshow": {
     "slide_type": "slide"
    }
   },
   "source": [
    "### Instructions :\n",
    "- Solutions to be submitted as a Jupyter notebook called \"__HUB4045F - Yourname - Your student number\"__.\n",
    "- Explanations to questions should be done in formatted markdown cells. Code should be presented in code cells. \n",
    "- All required libraries for your code to run should be clearly stated at the beginning of the notebook with full instructions of how to install them.\n",
    "- All code should be well commented.\n",
    "- Part marks will be given for non running code provided that an explanation is provided for why the code is not working.\n",
    "- Add appropriate references to other peoples work or code. \n",
    "- Please use relative paths for any images, videos you embed and of course you will need to upload them with your python file when submitting. Please zip the full list of files.\n",
    "\n",
    "- NB We will submit the code for similarity tests (http://www.tareeinternet.com/scripts/comparison-tool/). As much as we encourage sharing ideas and working together its important that the final submission be individual work."
   ]
  },
  {
   "cell_type": "markdown",
   "metadata": {
    "slideshow": {
     "slide_type": "slide"
    }
   },
   "source": [
    "## 1 Radon Transform and CT Imaging [10 marks]\n",
    "\n",
    "\n",
    "<center> <img src=\"./TOMO_gif_CT_Kesner.gif\",width=600,height=600> </center> \n",
    "\n",
    "Consider a cross-sectional slice of a patient's anatomy represented by a function $f(x, y)$, where $(x, y)$ are the Cartesian coordinates in the imaging plane. The forward projection at an angle $\\theta$ is modeled by the Radon transform $Rf(t, \\theta)$. The sinogram collects these projections at various angles ranging from $0$ to $\\pi$.\n",
    "\n",
    "1. Describe mathematically how to obtain the intensity profile for a given angle $\\theta$ using the function $f(x, y)$.\n",
    "2. Explain how to compile these intensity profiles into a sinogram and what information each axis of the sinogram represents.\n",
    "3. Given the sinogram data $Rf(t, \\theta)$ for angles $\\theta$ between $0$ and $\\pi$, formulate the mathematical process to reconstruct the original function $f(x, y)$ representing the patient's anatomy.\n",
    "\n"
   ]
  },
  {
   "cell_type": "markdown",
   "metadata": {
    "slideshow": {
     "slide_type": "subslide"
    }
   },
   "source": [
    "### Concepts Being Tested:\n",
    "\n",
    "- Understanding of Forward Projection: Demonstrate an understanding of how to model the forward projection process mathematically.\n",
    "- Interpretation of Sinogram Data: The ability to interpret a sinogram and its axes in the context of CT imaging.\n",
    "- Radon Transform Application: Knowledge of how the Radon transform is used in the forward projection and how its inverse can be used to reconstruct the original image.\n"
   ]
  },
  {
   "cell_type": "markdown",
   "metadata": {
    "slideshow": {
     "slide_type": "slide"
    }
   },
   "source": [
    "## 2 Implementing Beer's Law in X-ray Attenuation Simulation [15 Marks]\n",
    "\n",
    "**Task Description:**\n",
    "Below is a Python code snippet intended for simulating X-ray beam attenuation through materials of varying thicknesses using Beer's Law. Certain key components are omitted to challenge your understanding and application of the concepts as well as test your Python coding. \n",
    "\n",
    "a) Complete the code to accurately simulate and visualize X-ray attenuation for air, soft tissue, and add bone as a material.\n",
    "b) Discuss how differences in attenuation affect the contrast seen in CT images.\n",
    "\n"
   ]
  },
  {
   "cell_type": "code",
   "execution_count": 1,
   "metadata": {
    "slideshow": {
     "slide_type": "subslide"
    }
   },
   "outputs": [
    {
     "ename": "SyntaxError",
     "evalue": "invalid syntax (2388533355.py, line 7)",
     "output_type": "error",
     "traceback": [
      "\u001b[0;36m  Input \u001b[0;32mIn [1]\u001b[0;36m\u001b[0m\n\u001b[0;31m    I_0 =    #Initial intensity\u001b[0m\n\u001b[0m             ^\u001b[0m\n\u001b[0;31mSyntaxError\u001b[0m\u001b[0;31m:\u001b[0m invalid syntax\n"
     ]
    }
   ],
   "source": [
    "# PARTIAL CODE FOR STUDENT COMPLETION\n",
    "\n",
    "# Define attenuation coefficients for various materials\n",
    "attenuation_coefficients = {'air': None, 'soft_tissue': None}  # Add bone\n",
    "\n",
    "thickness = np.linspace(0, 10, 100)  # Thickness range in cm\n",
    "I_0 =    #Initial intensity \n",
    "\n",
    "# Loop to calculate and plot X-ray attenuation\n",
    "for material, mu in attenuation_coefficients.items():\n",
    "    # Apply Beer's Law to calculate final intensity I for each material\n",
    "    I =   # Placeholder for Beer's Law application\n",
    "    \n",
    "    # Students to plot the thickness vs. intensity\n",
    "    # Missing plot commands\n",
    "\n",
    "# Students to add plot labels and legend"
   ]
  },
  {
   "cell_type": "markdown",
   "metadata": {
    "slideshow": {
     "slide_type": "subslide"
    }
   },
   "source": [
    "**Concepts Being Tested:**\n",
    "- Application of Beer's Law in computational simulations.\n",
    "- Understanding of how X-ray attenuation contributes to contrast in CT images.\n",
    "- Development of Python coding skills for scientific visualization.\n"
   ]
  },
  {
   "cell_type": "markdown",
   "metadata": {
    "slideshow": {
     "slide_type": "slide"
    }
   },
   "source": [
    "## 3: Intersections and Transformations: Exploring Lines and the Radon Transform [15 Marks]\n",
    "\n",
    "Given the line $l_{1/2, \\pi/6}$ with standard parameterization $x = \\frac{\\sqrt{3}}{4} - \\frac{s}{2}$ and $y = \\frac{1}{4} + \\frac{\\sqrt{3}}{2}s$, for $s$ ranging from $-\\infty$ to $+\\infty$:\n",
    "\n",
    "1. Find the values of $s$ at which this line intersects the unit circle.\n",
    "2. Define the function $f(x, y)$ as follows:\n",
    "   $$\n",
    "   f(x, y) = \n",
    "   \\begin{cases} \n",
    "   x, & \\text{if } x^2 + y^2 \\leq 1 \\\\\n",
    "   0, & \\text{if } x^2 + y^2 > 1\n",
    "   \\end{cases}\n",
    "   $$\n",
    "   Compute the Radon transform $Rf(1/2, \\pi/6)$.\n"
   ]
  },
  {
   "cell_type": "markdown",
   "metadata": {
    "slideshow": {
     "slide_type": "subslide"
    }
   },
   "source": [
    "### Concepts Being Tested:\n",
    "\n",
    "- **Geometric Understanding**: Ability to apply parameterization of lines and their intersections with other geometric shapes (e.g., unit circle).\n",
    "- **Integration Skills**: Proficiency in setting up and evaluating integrals, particularly in the context of the Radon transform.\n",
    "- **Application of the Radon Transform**: Understanding of how the Radon transform integrates a function over specific lines, relevant to image processing and medical imaging.\n"
   ]
  },
  {
   "cell_type": "markdown",
   "metadata": {
    "slideshow": {
     "slide_type": "slide"
    }
   },
   "source": [
    "## 4. Understanding Symmetry in the Radon Transform [10 Marks]\n",
    "\n",
    "Show that for all choices of $t$ and $\\theta$, and all suitable functions $f$, $Rf(t, \\theta) = Rf(-t, \\theta + \\pi)$. (This symmetry is one reason that the graph of the Radon transform is called a sinogram.)\n",
    "\n"
   ]
  },
  {
   "cell_type": "markdown",
   "metadata": {
    "slideshow": {
     "slide_type": "subslide"
    }
   },
   "source": [
    "### Concepts Being Tested:\n",
    "\n",
    "- **Radon Transform Properties:** The question assesses understanding of the fundamental properties of the Radon transform, particularly its symmetry aspects.\n",
    "- **Mathematical Proof Skills:** Ability to construct a logical argument to demonstrate a property of a mathematical function or transformation.\n",
    "- **Applications in Imaging:** Understanding the implications of this symmetry for practical applications, such as how it contributes to the formation of sinograms in computed tomography.\n",
    "\n"
   ]
  }
 ],
 "metadata": {
  "celltoolbar": "Slideshow",
  "hide_input": false,
  "kernelspec": {
   "display_name": "Python 3 (ipykernel)",
   "language": "python",
   "name": "python3"
  },
  "language_info": {
   "codemirror_mode": {
    "name": "ipython",
    "version": 3
   },
   "file_extension": ".py",
   "mimetype": "text/x-python",
   "name": "python",
   "nbconvert_exporter": "python",
   "pygments_lexer": "ipython3",
   "version": "3.9.12"
  },
  "rise": {
   "scroll": true,
   "start_slideshow_at": "selected",
   "theme": "simple",
   "transition": "slide"
  },
  "varInspector": {
   "cols": {
    "lenName": 16,
    "lenType": 16,
    "lenVar": 40
   },
   "kernels_config": {
    "python": {
     "delete_cmd_postfix": "",
     "delete_cmd_prefix": "del ",
     "library": "var_list.py",
     "varRefreshCmd": "print(var_dic_list())"
    },
    "r": {
     "delete_cmd_postfix": ") ",
     "delete_cmd_prefix": "rm(",
     "library": "var_list.r",
     "varRefreshCmd": "cat(var_dic_list()) "
    }
   },
   "types_to_exclude": [
    "module",
    "function",
    "builtin_function_or_method",
    "instance",
    "_Feature"
   ],
   "window_display": false
  }
 },
 "nbformat": 4,
 "nbformat_minor": 2
}
